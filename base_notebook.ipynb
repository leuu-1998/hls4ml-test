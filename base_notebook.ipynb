{
 "cells": [
  {
   "cell_type": "markdown",
   "id": "b4aa6fb3-23c8-4af7-afb3-cb99255f1b99",
   "metadata": {},
   "source": [
    "## 1 Create and Train the AlexNet Model in TensorFlow"
   ]
  },
  {
   "cell_type": "code",
   "execution_count": 2,
   "id": "f2b7513b-5fdb-4801-89ee-a0a43f34d286",
   "metadata": {},
   "outputs": [
    {
     "name": "stderr",
     "output_type": "stream",
     "text": [
      "2025-04-23 21:16:35.893511: I tensorflow/core/platform/cpu_feature_guard.cc:210] This TensorFlow binary is optimized to use available CPU instructions in performance-critical operations.\n",
      "To enable the following instructions: AVX2 FMA, in other operations, rebuild TensorFlow with the appropriate compiler flags.\n"
     ]
    },
    {
     "name": "stdout",
     "output_type": "stream",
     "text": [
      "Downloading data from https://storage.googleapis.com/tensorflow/tf-keras-datasets/mnist.npz\n",
      "\u001b[1m11490434/11490434\u001b[0m \u001b[32m━━━━━━━━━━━━━━━━━━━━\u001b[0m\u001b[37m\u001b[0m \u001b[1m1s\u001b[0m 0us/step \n"
     ]
    },
    {
     "name": "stderr",
     "output_type": "stream",
     "text": [
      "/usr/local/lib/python3.11/dist-packages/keras/src/layers/convolutional/base_conv.py:107: UserWarning: Do not pass an `input_shape`/`input_dim` argument to a layer. When using Sequential models, prefer using an `Input(shape)` object as the first layer in the model instead.\n",
      "  super().__init__(activity_regularizer=activity_regularizer, **kwargs)\n"
     ]
    },
    {
     "data": {
      "text/html": [
       "<pre style=\"white-space:pre;overflow-x:auto;line-height:normal;font-family:Menlo,'DejaVu Sans Mono',consolas,'Courier New',monospace\"><span style=\"font-weight: bold\">Model: \"sequential\"</span>\n",
       "</pre>\n"
      ],
      "text/plain": [
       "\u001b[1mModel: \"sequential\"\u001b[0m\n"
      ]
     },
     "metadata": {},
     "output_type": "display_data"
    },
    {
     "data": {
      "text/html": [
       "<pre style=\"white-space:pre;overflow-x:auto;line-height:normal;font-family:Menlo,'DejaVu Sans Mono',consolas,'Courier New',monospace\">┏━━━━━━━━━━━━━━━━━━━━━━━━━━━━━━━━━┳━━━━━━━━━━━━━━━━━━━━━━━━┳━━━━━━━━━━━━━━━┓\n",
       "┃<span style=\"font-weight: bold\"> Layer (type)                    </span>┃<span style=\"font-weight: bold\"> Output Shape           </span>┃<span style=\"font-weight: bold\">       Param # </span>┃\n",
       "┡━━━━━━━━━━━━━━━━━━━━━━━━━━━━━━━━━╇━━━━━━━━━━━━━━━━━━━━━━━━╇━━━━━━━━━━━━━━━┩\n",
       "│ conv2d (<span style=\"color: #0087ff; text-decoration-color: #0087ff\">Conv2D</span>)                 │ (<span style=\"color: #00d7ff; text-decoration-color: #00d7ff\">None</span>, <span style=\"color: #00af00; text-decoration-color: #00af00\">28</span>, <span style=\"color: #00af00; text-decoration-color: #00af00\">28</span>, <span style=\"color: #00af00; text-decoration-color: #00af00\">32</span>)     │           <span style=\"color: #00af00; text-decoration-color: #00af00\">320</span> │\n",
       "├─────────────────────────────────┼────────────────────────┼───────────────┤\n",
       "│ max_pooling2d (<span style=\"color: #0087ff; text-decoration-color: #0087ff\">MaxPooling2D</span>)    │ (<span style=\"color: #00d7ff; text-decoration-color: #00d7ff\">None</span>, <span style=\"color: #00af00; text-decoration-color: #00af00\">14</span>, <span style=\"color: #00af00; text-decoration-color: #00af00\">14</span>, <span style=\"color: #00af00; text-decoration-color: #00af00\">32</span>)     │             <span style=\"color: #00af00; text-decoration-color: #00af00\">0</span> │\n",
       "├─────────────────────────────────┼────────────────────────┼───────────────┤\n",
       "│ conv2d_1 (<span style=\"color: #0087ff; text-decoration-color: #0087ff\">Conv2D</span>)               │ (<span style=\"color: #00d7ff; text-decoration-color: #00d7ff\">None</span>, <span style=\"color: #00af00; text-decoration-color: #00af00\">14</span>, <span style=\"color: #00af00; text-decoration-color: #00af00\">14</span>, <span style=\"color: #00af00; text-decoration-color: #00af00\">64</span>)     │        <span style=\"color: #00af00; text-decoration-color: #00af00\">18,496</span> │\n",
       "├─────────────────────────────────┼────────────────────────┼───────────────┤\n",
       "│ max_pooling2d_1 (<span style=\"color: #0087ff; text-decoration-color: #0087ff\">MaxPooling2D</span>)  │ (<span style=\"color: #00d7ff; text-decoration-color: #00d7ff\">None</span>, <span style=\"color: #00af00; text-decoration-color: #00af00\">7</span>, <span style=\"color: #00af00; text-decoration-color: #00af00\">7</span>, <span style=\"color: #00af00; text-decoration-color: #00af00\">64</span>)       │             <span style=\"color: #00af00; text-decoration-color: #00af00\">0</span> │\n",
       "├─────────────────────────────────┼────────────────────────┼───────────────┤\n",
       "│ conv2d_2 (<span style=\"color: #0087ff; text-decoration-color: #0087ff\">Conv2D</span>)               │ (<span style=\"color: #00d7ff; text-decoration-color: #00d7ff\">None</span>, <span style=\"color: #00af00; text-decoration-color: #00af00\">7</span>, <span style=\"color: #00af00; text-decoration-color: #00af00\">7</span>, <span style=\"color: #00af00; text-decoration-color: #00af00\">128</span>)      │        <span style=\"color: #00af00; text-decoration-color: #00af00\">73,856</span> │\n",
       "├─────────────────────────────────┼────────────────────────┼───────────────┤\n",
       "│ flatten (<span style=\"color: #0087ff; text-decoration-color: #0087ff\">Flatten</span>)               │ (<span style=\"color: #00d7ff; text-decoration-color: #00d7ff\">None</span>, <span style=\"color: #00af00; text-decoration-color: #00af00\">6272</span>)           │             <span style=\"color: #00af00; text-decoration-color: #00af00\">0</span> │\n",
       "├─────────────────────────────────┼────────────────────────┼───────────────┤\n",
       "│ dense (<span style=\"color: #0087ff; text-decoration-color: #0087ff\">Dense</span>)                   │ (<span style=\"color: #00d7ff; text-decoration-color: #00d7ff\">None</span>, <span style=\"color: #00af00; text-decoration-color: #00af00\">256</span>)            │     <span style=\"color: #00af00; text-decoration-color: #00af00\">1,605,888</span> │\n",
       "├─────────────────────────────────┼────────────────────────┼───────────────┤\n",
       "│ dropout (<span style=\"color: #0087ff; text-decoration-color: #0087ff\">Dropout</span>)               │ (<span style=\"color: #00d7ff; text-decoration-color: #00d7ff\">None</span>, <span style=\"color: #00af00; text-decoration-color: #00af00\">256</span>)            │             <span style=\"color: #00af00; text-decoration-color: #00af00\">0</span> │\n",
       "├─────────────────────────────────┼────────────────────────┼───────────────┤\n",
       "│ dense_1 (<span style=\"color: #0087ff; text-decoration-color: #0087ff\">Dense</span>)                 │ (<span style=\"color: #00d7ff; text-decoration-color: #00d7ff\">None</span>, <span style=\"color: #00af00; text-decoration-color: #00af00\">10</span>)             │         <span style=\"color: #00af00; text-decoration-color: #00af00\">2,570</span> │\n",
       "└─────────────────────────────────┴────────────────────────┴───────────────┘\n",
       "</pre>\n"
      ],
      "text/plain": [
       "┏━━━━━━━━━━━━━━━━━━━━━━━━━━━━━━━━━┳━━━━━━━━━━━━━━━━━━━━━━━━┳━━━━━━━━━━━━━━━┓\n",
       "┃\u001b[1m \u001b[0m\u001b[1mLayer (type)                   \u001b[0m\u001b[1m \u001b[0m┃\u001b[1m \u001b[0m\u001b[1mOutput Shape          \u001b[0m\u001b[1m \u001b[0m┃\u001b[1m \u001b[0m\u001b[1m      Param #\u001b[0m\u001b[1m \u001b[0m┃\n",
       "┡━━━━━━━━━━━━━━━━━━━━━━━━━━━━━━━━━╇━━━━━━━━━━━━━━━━━━━━━━━━╇━━━━━━━━━━━━━━━┩\n",
       "│ conv2d (\u001b[38;5;33mConv2D\u001b[0m)                 │ (\u001b[38;5;45mNone\u001b[0m, \u001b[38;5;34m28\u001b[0m, \u001b[38;5;34m28\u001b[0m, \u001b[38;5;34m32\u001b[0m)     │           \u001b[38;5;34m320\u001b[0m │\n",
       "├─────────────────────────────────┼────────────────────────┼───────────────┤\n",
       "│ max_pooling2d (\u001b[38;5;33mMaxPooling2D\u001b[0m)    │ (\u001b[38;5;45mNone\u001b[0m, \u001b[38;5;34m14\u001b[0m, \u001b[38;5;34m14\u001b[0m, \u001b[38;5;34m32\u001b[0m)     │             \u001b[38;5;34m0\u001b[0m │\n",
       "├─────────────────────────────────┼────────────────────────┼───────────────┤\n",
       "│ conv2d_1 (\u001b[38;5;33mConv2D\u001b[0m)               │ (\u001b[38;5;45mNone\u001b[0m, \u001b[38;5;34m14\u001b[0m, \u001b[38;5;34m14\u001b[0m, \u001b[38;5;34m64\u001b[0m)     │        \u001b[38;5;34m18,496\u001b[0m │\n",
       "├─────────────────────────────────┼────────────────────────┼───────────────┤\n",
       "│ max_pooling2d_1 (\u001b[38;5;33mMaxPooling2D\u001b[0m)  │ (\u001b[38;5;45mNone\u001b[0m, \u001b[38;5;34m7\u001b[0m, \u001b[38;5;34m7\u001b[0m, \u001b[38;5;34m64\u001b[0m)       │             \u001b[38;5;34m0\u001b[0m │\n",
       "├─────────────────────────────────┼────────────────────────┼───────────────┤\n",
       "│ conv2d_2 (\u001b[38;5;33mConv2D\u001b[0m)               │ (\u001b[38;5;45mNone\u001b[0m, \u001b[38;5;34m7\u001b[0m, \u001b[38;5;34m7\u001b[0m, \u001b[38;5;34m128\u001b[0m)      │        \u001b[38;5;34m73,856\u001b[0m │\n",
       "├─────────────────────────────────┼────────────────────────┼───────────────┤\n",
       "│ flatten (\u001b[38;5;33mFlatten\u001b[0m)               │ (\u001b[38;5;45mNone\u001b[0m, \u001b[38;5;34m6272\u001b[0m)           │             \u001b[38;5;34m0\u001b[0m │\n",
       "├─────────────────────────────────┼────────────────────────┼───────────────┤\n",
       "│ dense (\u001b[38;5;33mDense\u001b[0m)                   │ (\u001b[38;5;45mNone\u001b[0m, \u001b[38;5;34m256\u001b[0m)            │     \u001b[38;5;34m1,605,888\u001b[0m │\n",
       "├─────────────────────────────────┼────────────────────────┼───────────────┤\n",
       "│ dropout (\u001b[38;5;33mDropout\u001b[0m)               │ (\u001b[38;5;45mNone\u001b[0m, \u001b[38;5;34m256\u001b[0m)            │             \u001b[38;5;34m0\u001b[0m │\n",
       "├─────────────────────────────────┼────────────────────────┼───────────────┤\n",
       "│ dense_1 (\u001b[38;5;33mDense\u001b[0m)                 │ (\u001b[38;5;45mNone\u001b[0m, \u001b[38;5;34m10\u001b[0m)             │         \u001b[38;5;34m2,570\u001b[0m │\n",
       "└─────────────────────────────────┴────────────────────────┴───────────────┘\n"
      ]
     },
     "metadata": {},
     "output_type": "display_data"
    },
    {
     "data": {
      "text/html": [
       "<pre style=\"white-space:pre;overflow-x:auto;line-height:normal;font-family:Menlo,'DejaVu Sans Mono',consolas,'Courier New',monospace\"><span style=\"font-weight: bold\"> Total params: </span><span style=\"color: #00af00; text-decoration-color: #00af00\">1,701,130</span> (6.49 MB)\n",
       "</pre>\n"
      ],
      "text/plain": [
       "\u001b[1m Total params: \u001b[0m\u001b[38;5;34m1,701,130\u001b[0m (6.49 MB)\n"
      ]
     },
     "metadata": {},
     "output_type": "display_data"
    },
    {
     "data": {
      "text/html": [
       "<pre style=\"white-space:pre;overflow-x:auto;line-height:normal;font-family:Menlo,'DejaVu Sans Mono',consolas,'Courier New',monospace\"><span style=\"font-weight: bold\"> Trainable params: </span><span style=\"color: #00af00; text-decoration-color: #00af00\">1,701,130</span> (6.49 MB)\n",
       "</pre>\n"
      ],
      "text/plain": [
       "\u001b[1m Trainable params: \u001b[0m\u001b[38;5;34m1,701,130\u001b[0m (6.49 MB)\n"
      ]
     },
     "metadata": {},
     "output_type": "display_data"
    },
    {
     "data": {
      "text/html": [
       "<pre style=\"white-space:pre;overflow-x:auto;line-height:normal;font-family:Menlo,'DejaVu Sans Mono',consolas,'Courier New',monospace\"><span style=\"font-weight: bold\"> Non-trainable params: </span><span style=\"color: #00af00; text-decoration-color: #00af00\">0</span> (0.00 B)\n",
       "</pre>\n"
      ],
      "text/plain": [
       "\u001b[1m Non-trainable params: \u001b[0m\u001b[38;5;34m0\u001b[0m (0.00 B)\n"
      ]
     },
     "metadata": {},
     "output_type": "display_data"
    },
    {
     "name": "stdout",
     "output_type": "stream",
     "text": [
      "Epoch 1/10\n",
      "\u001b[1m469/469\u001b[0m \u001b[32m━━━━━━━━━━━━━━━━━━━━\u001b[0m\u001b[37m\u001b[0m \u001b[1m25s\u001b[0m 51ms/step - accuracy: 0.8629 - loss: 0.4220 - val_accuracy: 0.9866 - val_loss: 0.0397\n",
      "Epoch 2/10\n",
      "\u001b[1m469/469\u001b[0m \u001b[32m━━━━━━━━━━━━━━━━━━━━\u001b[0m\u001b[37m\u001b[0m \u001b[1m25s\u001b[0m 54ms/step - accuracy: 0.9806 - loss: 0.0638 - val_accuracy: 0.9888 - val_loss: 0.0294\n",
      "Epoch 3/10\n",
      "\u001b[1m469/469\u001b[0m \u001b[32m━━━━━━━━━━━━━━━━━━━━\u001b[0m\u001b[37m\u001b[0m \u001b[1m28s\u001b[0m 60ms/step - accuracy: 0.9872 - loss: 0.0417 - val_accuracy: 0.9908 - val_loss: 0.0268\n",
      "Epoch 4/10\n",
      "\u001b[1m469/469\u001b[0m \u001b[32m━━━━━━━━━━━━━━━━━━━━\u001b[0m\u001b[37m\u001b[0m \u001b[1m23s\u001b[0m 49ms/step - accuracy: 0.9909 - loss: 0.0292 - val_accuracy: 0.9905 - val_loss: 0.0259\n",
      "Epoch 5/10\n",
      "\u001b[1m469/469\u001b[0m \u001b[32m━━━━━━━━━━━━━━━━━━━━\u001b[0m\u001b[37m\u001b[0m \u001b[1m22s\u001b[0m 48ms/step - accuracy: 0.9928 - loss: 0.0222 - val_accuracy: 0.9929 - val_loss: 0.0199\n",
      "Epoch 6/10\n",
      "\u001b[1m469/469\u001b[0m \u001b[32m━━━━━━━━━━━━━━━━━━━━\u001b[0m\u001b[37m\u001b[0m \u001b[1m22s\u001b[0m 48ms/step - accuracy: 0.9925 - loss: 0.0215 - val_accuracy: 0.9929 - val_loss: 0.0196\n",
      "Epoch 7/10\n",
      "\u001b[1m469/469\u001b[0m \u001b[32m━━━━━━━━━━━━━━━━━━━━\u001b[0m\u001b[37m\u001b[0m \u001b[1m26s\u001b[0m 54ms/step - accuracy: 0.9949 - loss: 0.0160 - val_accuracy: 0.9929 - val_loss: 0.0219\n",
      "Epoch 8/10\n",
      "\u001b[1m469/469\u001b[0m \u001b[32m━━━━━━━━━━━━━━━━━━━━\u001b[0m\u001b[37m\u001b[0m \u001b[1m23s\u001b[0m 49ms/step - accuracy: 0.9953 - loss: 0.0148 - val_accuracy: 0.9920 - val_loss: 0.0260\n",
      "Epoch 9/10\n",
      "\u001b[1m469/469\u001b[0m \u001b[32m━━━━━━━━━━━━━━━━━━━━\u001b[0m\u001b[37m\u001b[0m \u001b[1m23s\u001b[0m 49ms/step - accuracy: 0.9958 - loss: 0.0132 - val_accuracy: 0.9951 - val_loss: 0.0167\n",
      "Epoch 10/10\n",
      "\u001b[1m469/469\u001b[0m \u001b[32m━━━━━━━━━━━━━━━━━━━━\u001b[0m\u001b[37m\u001b[0m \u001b[1m26s\u001b[0m 56ms/step - accuracy: 0.9963 - loss: 0.0116 - val_accuracy: 0.9932 - val_loss: 0.0190\n"
     ]
    },
    {
     "name": "stderr",
     "output_type": "stream",
     "text": [
      "WARNING:absl:You are saving your model as an HDF5 file via `model.save()` or `keras.saving.save_model(model)`. This file format is considered legacy. We recommend using instead the native Keras format, e.g. `model.save('my_model.keras')` or `keras.saving.save_model(model, 'my_model.keras')`. \n"
     ]
    },
    {
     "name": "stdout",
     "output_type": "stream",
     "text": [
      "Test accuracy: 99.32%\n"
     ]
    }
   ],
   "source": [
    "import tensorflow as tf\n",
    "from tensorflow.keras.models import Sequential\n",
    "from tensorflow.keras.layers import Conv2D, MaxPooling2D, Flatten, Dense, Dropout\n",
    "from tensorflow.keras.datasets import mnist\n",
    "import numpy as np\n",
    "import matplotlib.pyplot as plt\n",
    "\n",
    "# Load and preprocess MNIST dataset\n",
    "(x_train, y_train), (x_test, y_test) = mnist.load_data()\n",
    "\n",
    "# Reshape and normalize data\n",
    "x_train = x_train.reshape(x_train.shape[0], 28, 28, 1).astype('float32') / 255\n",
    "x_test = x_test.reshape(x_test.shape[0], 28, 28, 1).astype('float32') / 255\n",
    "\n",
    "# One-hot encode labels\n",
    "y_train = tf.keras.utils.to_categorical(y_train, 10)\n",
    "y_test = tf.keras.utils.to_categorical(y_test, 10)\n",
    "\n",
    "# Create a modified AlexNet model for MNIST (28x28 images)\n",
    "def create_alexnet_mnist():\n",
    "    model = Sequential([\n",
    "        # First convolutional layer\n",
    "        Conv2D(32, (3, 3), padding='same', activation='relu', input_shape=(28, 28, 1)),\n",
    "        MaxPooling2D(pool_size=(2, 2)),\n",
    "        \n",
    "        # Second convolutional layer\n",
    "        Conv2D(64, (3, 3), padding='same', activation='relu'),\n",
    "        MaxPooling2D(pool_size=(2, 2)),\n",
    "        \n",
    "        # Third convolutional layer\n",
    "        Conv2D(128, (3, 3), padding='same', activation='relu'),\n",
    "        \n",
    "        # Flatten and fully connected layers\n",
    "        Flatten(),\n",
    "        Dense(256, activation='relu'),\n",
    "        Dropout(0.5),\n",
    "        Dense(10, activation='softmax')\n",
    "    ])\n",
    "    \n",
    "    return model\n",
    "\n",
    "# Create and compile the model\n",
    "model = create_alexnet_mnist()\n",
    "model.compile(loss='categorical_crossentropy', optimizer='adam', metrics=['accuracy'])\n",
    "\n",
    "# Display model summary\n",
    "model.summary()\n",
    "\n",
    "# Train the model\n",
    "history = model.fit(x_train, y_train, batch_size=128, epochs=10, \n",
    "                    validation_data=(x_test, y_test))\n",
    "\n",
    "# Evaluate the model\n",
    "score = model.evaluate(x_test, y_test, verbose=0)\n",
    "print(f\"Test accuracy: {score[1]*100:.2f}%\")\n",
    "\n",
    "# Save the model\n",
    "model.save('alexnet_mnist.h5')"
   ]
  },
  {
   "cell_type": "markdown",
   "id": "2ddd185e-93cc-4373-820f-fe82aec0be1c",
   "metadata": {},
   "source": [
    "## TEST THE MODEL IN PYTHON"
   ]
  },
  {
   "cell_type": "code",
   "execution_count": 25,
   "id": "7ae8a45e-5291-400b-9678-0dc01b095060",
   "metadata": {},
   "outputs": [
    {
     "name": "stdout",
     "output_type": "stream",
     "text": [
      "\u001b[1m1/1\u001b[0m \u001b[32m━━━━━━━━━━━━━━━━━━━━\u001b[0m\u001b[37m\u001b[0m \u001b[1m0s\u001b[0m 30ms/step\n"
     ]
    },
    {
     "data": {
      "image/png": "[encoded data removed]",
      "text/plain": [
       "<Figure size 1200x400 with 2 Axes>"
      ]
     },
     "metadata": {},
     "output_type": "display_data"
    },
    {
     "name": "stdout",
     "output_type": "stream",
     "text": [
      "Predicted digit: 9\n",
      "Confidence: 99.99%\n"
     ]
    }
   ],
   "source": [
    "# Add this code after training the model in Step 2\n",
    "\n",
    "import numpy as np\n",
    "from PIL import Image\n",
    "import matplotlib.pyplot as plt\n",
    "\n",
    "def predict_digit_from_file(model, image_path):\n",
    "    \"\"\"\n",
    "    Load an image from file and predict the digit using PIL\n",
    "    \"\"\"\n",
    "    try:\n",
    "        # Load image and convert to grayscale\n",
    "        img = Image.open(image_path).convert('L')\n",
    "        \n",
    "        # Resize to 28x28\n",
    "        img = img.resize((28, 28))\n",
    "        \n",
    "        # Convert to numpy array\n",
    "        img_array = np.array(img)\n",
    "        \n",
    "        # Invert if needed (MNIST has white digits on black background)\n",
    "        # Uncomment if your image has black digits on white background\n",
    "        # img_array = 255 - img_array\n",
    "        \n",
    "        # Normalize pixel values\n",
    "        img_array = img_array.astype('float32') / 255.0\n",
    "        \n",
    "        # Reshape for model input\n",
    "        img_input = img_array.reshape(1, 28, 28, 1)\n",
    "        \n",
    "        # Make prediction\n",
    "        prediction = model.predict(img_input)\n",
    "        digit = np.argmax(prediction)\n",
    "        confidence = np.max(prediction) * 100\n",
    "        \n",
    "        return digit, confidence, img_array\n",
    "    except Exception as e:\n",
    "        print(f\"Error processing image: {e}\")\n",
    "        return None, None, None\n",
    "\n",
    "# Path to your test image\n",
    "#test_image_path = 'data/test/4_image.png'  # Replace with your image path\n",
    "test_image_path = 'data/test/9_image.jpg'\n",
    "\n",
    "# Predict the digit\n",
    "digit, confidence, processed_img = predict_digit_from_file(model, test_image_path)\n",
    "\n",
    "if digit is not None:\n",
    "    # Display results\n",
    "    plt.figure(figsize=(12, 4))\n",
    "    \n",
    "    # Original image\n",
    "    plt.subplot(1, 2, 1)\n",
    "    original_img = Image.open(test_image_path)\n",
    "    plt.imshow(original_img, cmap='gray' if original_img.mode == 'L' else None)\n",
    "    plt.title('Original Image')\n",
    "    plt.axis('off')\n",
    "    \n",
    "    # Processed image\n",
    "    plt.subplot(1, 2, 2)\n",
    "    plt.imshow(processed_img, cmap='gray')\n",
    "    plt.title(f'Processed Image\\nPrediction: {digit} (Confidence: {confidence:.2f}%)')\n",
    "    plt.axis('off')\n",
    "    \n",
    "    plt.tight_layout()\n",
    "    plt.show()\n",
    "    \n",
    "    print(f\"Predicted digit: {digit}\")\n",
    "    print(f\"Confidence: {confidence:.2f}%\")"
   ]
  },
  {
   "cell_type": "markdown",
   "id": "fd7819ad-d9e9-42d2-a592-3cbe2f480859",
   "metadata": {},
   "source": [
    "## 2 Convert TensorFlow Model to HLS using HLS4ML"
   ]
  },
  {
   "cell_type": "code",
   "execution_count": 26,
   "id": "fffea8dc-6858-4bbf-bd3a-ae0c4feba85c",
   "metadata": {},
   "outputs": [
    {
     "name": "stdout",
     "output_type": "stream",
     "text": [
      "Collecting hls4ml\n",
      "  Downloading hls4ml-1.1.0-py3-none-any.whl.metadata (10 kB)\n",
      "Requirement already satisfied: h5py in /usr/local/lib/python3.11/dist-packages (from hls4ml) (3.13.0)\n",
      "Requirement already satisfied: numpy in /usr/local/lib/python3.11/dist-packages (from hls4ml) (2.1.3)\n",
      "Collecting pydigitalwavetools==1.1 (from hls4ml)\n",
      "  Downloading pyDigitalWaveTools-1.1-py3-none-any.whl.metadata (3.1 kB)\n",
      "Requirement already satisfied: pyyaml in /usr/local/lib/python3.11/dist-packages (from hls4ml) (6.0.2)\n",
      "Downloading hls4ml-1.1.0-py3-none-any.whl (3.1 MB)\n",
      "\u001b[2K   \u001b[90m━━━━━━━━━━━━━━━━━━━━━━━━━━━━━━━━━━━━━━━━\u001b[0m \u001b[32m3.1/3.1 MB\u001b[0m \u001b[31m4.8 MB/s\u001b[0m eta \u001b[36m0:00:00\u001b[0mta \u001b[36m0:00:01\u001b[0m\n",
      "Downloading pyDigitalWaveTools-1.1-py3-none-any.whl (13 kB)\n",
      "Installing collected packages: pydigitalwavetools, hls4ml\n",
      "Successfully installed hls4ml-1.1.0 pydigitalwavetools-1.1\n",
      "\u001b[33mWARNING: Running pip as the 'root' user can result in broken permissions and conflicting behaviour with the system package manager, possibly rendering your system unusable. It is recommended to use a virtual environment instead: https://pip.pypa.io/warnings/venv. Use the --root-user-action option if you know what you are doing and want to suppress this warning.\u001b[0m\u001b[33m\n",
      "\u001b[0m"
     ]
    }
   ],
   "source": [
    "!pip install hls4ml"
   ]
  },
  {
   "cell_type": "code",
   "execution_count": 28,
   "id": "9e7bc86b-a786-4596-97df-ab6fa65a0236",
   "metadata": {},
   "outputs": [
    {
     "name": "stdout",
     "output_type": "stream",
     "text": [
      "HLS4ML version: 1.1.0\n",
      "Error importing HLS4ML components: cannot import name 'get_backend' from 'hls4ml.converters' (/usr/local/lib/python3.11/dist-packages/hls4ml/converters/__init__.py)\n"
     ]
    }
   ],
   "source": [
    "# Check HLS4ML installation\n",
    "import hls4ml\n",
    "print(f\"HLS4ML version: {hls4ml.__version__}\")\n",
    "\n",
    "# Alternative way to check available backends\n",
    "try:\n",
    "    # For newer versions\n",
    "    from hls4ml.converters import get_backend\n",
    "    print(\"HLS4ML is installed correctly\")\n",
    "    \n",
    "    # Try to list available converters\n",
    "    import pkgutil\n",
    "    print(\"\\nAvailable modules in hls4ml:\")\n",
    "    for module in pkgutil.iter_modules(hls4ml.__path__):\n",
    "        print(f\"- {module.name}\")\n",
    "    \n",
    "    print(\"\\nAvailable converters:\")\n",
    "    converters_path = hls4ml.converters.__path__[0]\n",
    "    for module in pkgutil.iter_modules([converters_path]):\n",
    "        print(f\"- {module.name}\")\n",
    "        \n",
    "except ImportError as e:\n",
    "    print(f\"Error importing HLS4ML components: {e}\")"
   ]
  },
  {
   "cell_type": "code",
   "execution_count": null,
   "id": "9d4c72ad-d006-4969-b424-7b61de914ca0",
   "metadata": {},
   "outputs": [],
   "source": [
    "import hls4ml\n",
    "import tensorflow as tf\n",
    "\n",
    "# Load the trained model\n",
    "model = tf.keras.models.load_model('alexnet_mnist.h5')\n",
    "\n",
    "# Configure the HLS project\n",
    "hls_config = hls4ml.utils.config_from_keras_model(model, granularity='model')\n",
    "\n",
    "# Optimize for Zynq-7000\n",
    "hls_config['Model']['Precision'] = 'ap_fixed<16,6>'\n",
    "hls_config['Model']['ReuseFactor'] = 4\n",
    "hls_config['Model']['Strategy'] = 'Resource'\n",
    "\n",
    "# Convert the model to HLS\n",
    "hls_model = hls4ml.converters.convert_from_keras_model(\n",
    "    model,\n",
    "    hls_config=hls_config,\n",
    "    output_dir='hls4ml_prj',\n",
    "    part='xc7z020clg400-1'  # Adjust for your specific Zynq-7000 part\n",
    ")\n",
    "\n",
    "# Print the HLS model summary\n",
    "hls_model.summary()\n",
    "\n",
    "# Compile the model\n",
    "hls_model.compile()\n",
    "\n",
    "# Build the IP core\n",
    "hls_model.build(csim=True, synth=True, vsynth=True, export=True)"
   ]
  },
  {
   "cell_type": "markdown",
   "id": "dcd885a8-d700-4171-83d6-c5e19aa0e25d",
   "metadata": {},
   "source": [
    "## 3 Create a Vivado Project and Integrate the HLS IP"
   ]
  },
  {
   "cell_type": "code",
   "execution_count": null,
   "id": "29f1ad6b-a181-43b5-85ee-319833816119",
   "metadata": {},
   "outputs": [],
   "source": [
    "# bash code\n",
    "# These are shell commands to be executed in a terminal\n",
    "\n",
    "# 1. Create a new Vivado project for Zynq-7000\n",
    "vivado -mode batch -source create_project.tcl\n",
    "\n",
    "# 2. Import the HLS IP into the Vivado project\n",
    "# 3. Connect the IP to the Zynq PS through AXI interfaces\n",
    "# 4. Generate the bitstream"
   ]
  },
  {
   "cell_type": "markdown",
   "id": "dd4d27ff-7a8f-4b5e-a935-302fb7e60ede",
   "metadata": {},
   "source": [
    "The create_project.tcl file should contain:"
   ]
  },
  {
   "cell_type": "code",
   "execution_count": null,
   "id": "8e0f23d4-e98b-4f98-98ec-b8f861f039d1",
   "metadata": {},
   "outputs": [],
   "source": [
    "# tcl code\n",
    "# Create Vivado project\n",
    "create_project alexnet_mnist_zynq ./alexnet_mnist_zynq -part xc7z020clg400-1\n",
    "set_property board_part www.digilentinc.com:pynq-z1:part0:1.0 [current_project]\n",
    "\n",
    "# Create block design\n",
    "create_bd_design \"design_1\"\n",
    "update_compile_order -fileset sources_1\n",
    "\n",
    "# Add Zynq PS\n",
    "create_bd_cell -type ip -vlnv xilinx.com:ip:processing_system7:5.5 processing_system7_0\n",
    "apply_bd_automation -rule xilinx.com:bd_rule:processing_system7 -config {make_external \"FIXED_IO, DDR\" apply_board_preset \"1\" Master \"Disable\" Slave \"Disable\" }  [get_bd_cells processing_system7_0]\n",
    "\n",
    "# Add HLS IP\n",
    "set_property  ip_repo_paths  {./hls4ml_prj/alexnet_mnist_prj/solution1/impl/ip} [current_project]\n",
    "update_ip_catalog\n",
    "create_bd_cell -type ip -vlnv xilinx.com:hls:alexnet_mnist:1.0 alexnet_mnist_0\n",
    "\n",
    "# Connect AXI interfaces\n",
    "apply_bd_automation -rule xilinx.com:bd_rule:axi4 -config { Clk_master {Auto} Clk_slave {Auto} Clk_xbar {Auto} Master {/processing_system7_0/M_AXI_GP0} Slave {/alexnet_mnist_0/s_axi_control} ddr_seg {Auto} intc_ip {New AXI Interconnect} master_apm {0}}  [get_bd_intf_pins alexnet_mnist_0/s_axi_control]\n",
    "\n",
    "# Create wrapper\n",
    "make_wrapper -files [get_files ./alexnet_mnist_zynq/alexnet_mnist_zynq.srcs/sources_1/bd/design_1/design_1.bd] -top\n",
    "add_files -norecurse ./alexnet_mnist_zynq/alexnet_mnist_zynq.gen/sources_1/bd/design_1/hdl/design_1_wrapper.v\n",
    "update_compile_order -fileset sources_1\n",
    "\n",
    "# Generate bitstream\n",
    "launch_runs impl_1 -to_step write_bitstream -jobs 4\n",
    "wait_on_run impl_1"
   ]
  },
  {
   "cell_type": "markdown",
   "id": "7930d916-3df3-46b1-a3d1-d441a00e4250",
   "metadata": {},
   "source": [
    "## 4 Develop PYNQ Python Code for FPGA Deployment"
   ]
  },
  {
   "cell_type": "code",
   "execution_count": null,
   "id": "e415b30e-c109-471e-abd6-ba904e3a3cf0",
   "metadata": {},
   "outputs": [],
   "source": [
    "# This code runs on the PYNQ board\n",
    "from pynq import Overlay\n",
    "import numpy as np\n",
    "from PIL import Image\n",
    "import time\n",
    "\n",
    "# Load the overlay\n",
    "overlay = Overlay('/home/xilinx/alexnet_mnist.bit')\n",
    "\n",
    "# Access the HLS IP\n",
    "alexnet_ip = overlay.alexnet_mnist_0\n",
    "\n",
    "# Function to preprocess an image\n",
    "def preprocess_image(image_path):\n",
    "    # Load image and convert to grayscale\n",
    "    img = Image.open(image_path).convert('L')\n",
    "    # Resize to 28x28\n",
    "    img = img.resize((28, 28))\n",
    "    # Convert to numpy array and normalize\n",
    "    img_array = np.array(img).astype('float32') / 255.0\n",
    "    # Reshape for the model\n",
    "    img_array = img_array.reshape(1, 28, 28, 1)\n",
    "    # Flatten for the HLS IP\n",
    "    return img_array.flatten()\n",
    "\n",
    "# Function to run inference\n",
    "def recognize_number(image_path):\n",
    "    # Preprocess the image\n",
    "    input_data = preprocess_image(image_path)\n",
    "    \n",
    "    # Write input data to the IP\n",
    "    for i, val in enumerate(input_data):\n",
    "        alexnet_ip.write(i*4, val)\n",
    "    \n",
    "    # Start the IP\n",
    "    alexnet_ip.write(0x00, 1)\n",
    "    \n",
    "    # Wait for completion\n",
    "    while alexnet_ip.read(0x00) & 0x4 == 0:\n",
    "        pass\n",
    "    \n",
    "    # Read the results\n",
    "    result = [alexnet_ip.read(0x100 + i*4) for i in range(10)]\n",
    "    \n",
    "    # Return the predicted digit\n",
    "    return np.argmax(result)\n",
    "\n",
    "# Example usage\n",
    "image_path = 'test_digit.png'\n",
    "start_time = time.time()\n",
    "predicted_digit = recognize_number(image_path)\n",
    "inference_time = time.time() - start_time\n",
    "\n",
    "print(f\"Predicted digit: {predicted_digit}\")\n",
    "print(f\"Inference time: {inference_time:.4f} seconds\")"
   ]
  },
  {
   "cell_type": "markdown",
   "id": "6238a335-799a-48ba-99f3-589399720fce",
   "metadata": {},
   "source": [
    "## 5 Testing and Validation"
   ]
  },
  {
   "cell_type": "code",
   "execution_count": null,
   "id": "104993c0-bb04-4d96-802c-066921bdbc25",
   "metadata": {},
   "outputs": [],
   "source": [
    "# This code runs on the PYNQ board\n",
    "from pynq import Overlay\n",
    "import numpy as np\n",
    "from PIL import Image\n",
    "import matplotlib.pyplot as plt\n",
    "import time\n",
    "\n",
    "# Load test images from MNIST test set\n",
    "# Assuming you've transferred some test images to the PYNQ board\n",
    "test_images = ['test_digit_0.png', 'test_digit_1.png', 'test_digit_2.png', \n",
    "               'test_digit_3.png', 'test_digit_4.png']\n",
    "expected_labels = [0, 1, 2, 3, 4]\n",
    "\n",
    "# Test the model\n",
    "correct = 0\n",
    "total_time = 0\n",
    "\n",
    "for img_path, label in zip(test_images, expected_labels):\n",
    "    start_time = time.time()\n",
    "    prediction = recognize_number(img_path)\n",
    "    inference_time = time.time() - start_time\n",
    "    \n",
    "    total_time += inference_time\n",
    "    if prediction == label:\n",
    "        correct += 1\n",
    "    \n",
    "    print(f\"Image: {img_path}, Expected: {label}, Predicted: {prediction}, Time: {inference_time:.4f}s\")\n",
    "\n",
    "accuracy = correct / len(test_images) * 100\n",
    "avg_time = total_time / len(test_images)\n",
    "\n",
    "print(f\"Accuracy: {accuracy:.2f}%\")\n",
    "print(f\"Average inference time: {avg_time:.4f} seconds\")"
   ]
  },
  {
   "cell_type": "markdown",
   "id": "cef30424-238b-4e1d-bdad-cb8346ab76ad",
   "metadata": {},
   "source": [
    "## 6 Performance Optimization (at the end of all)"
   ]
  },
  {
   "cell_type": "code",
   "execution_count": null,
   "id": "f6d0cf7c-b200-4316-ba00-f9607b6cbf03",
   "metadata": {},
   "outputs": [],
   "source": [
    "# This code runs on the PYNQ board\n",
    "# Measure and optimize performance\n",
    "\n",
    "# Measure power consumption\n",
    "from pynq import Overlay, MMIO\n",
    "import time\n",
    "\n",
    "# Function to measure power\n",
    "def measure_power(duration=5):\n",
    "    # Access power management registers\n",
    "    power_rails = ['VCC_INT', 'VCC_AUX', 'VCC_BRAM']\n",
    "    power_values = {}\n",
    "    \n",
    "    for rail in power_rails:\n",
    "        power = 0\n",
    "        samples = 0\n",
    "        start_time = time.time()\n",
    "        \n",
    "        while time.time() - start_time < duration:\n",
    "            # Read power values (implementation depends on specific board)\n",
    "            # This is a simplified example\n",
    "            power += 0.1  # Replace with actual power reading\n",
    "            samples += 1\n",
    "            time.sleep(0.1)\n",
    "        \n",
    "        power_values[rail] = power / samples\n",
    "    \n",
    "    return power_values\n",
    "\n",
    "# Measure baseline power\n",
    "print(\"Measuring baseline power...\")\n",
    "baseline_power = measure_power()\n",
    "\n",
    "# Run inference and measure power\n",
    "print(\"Measuring inference power...\")\n",
    "overlay = Overlay('/home/xilinx/alexnet_mnist.bit')\n",
    "alexnet_ip = overlay.alexnet_mnist_0\n",
    "\n",
    "# Run inference multiple times\n",
    "for _ in range(10):\n",
    "    recognize_number('test_digit.png')\n",
    "\n",
    "inference_power = measure_power()\n",
    "\n",
    "# Calculate power difference\n",
    "for rail in baseline_power:\n",
    "    power_diff = inference_power[rail] - baseline_power[rail]\n",
    "    print(f\"{rail} power increase during inference: {power_diff:.4f} W\")"
   ]
  },
  {
   "cell_type": "markdown",
   "id": "dd154a9b-7802-47c8-a84a-e07a6206ab70",
   "metadata": {},
   "source": [
    "## 7 Web based service with the FPGA"
   ]
  },
  {
   "cell_type": "code",
   "execution_count": null,
   "id": "1c1e04ad-9206-4184-8dbe-0ef02ff32753",
   "metadata": {},
   "outputs": [],
   "source": [
    "# This code runs on the PYNQ board\n",
    "# Create a simple web interface for digit recognition\n",
    "\n",
    "from pynq import Overlay\n",
    "import numpy as np\n",
    "from PIL import Image\n",
    "import io\n",
    "import base64\n",
    "from flask import Flask, request, jsonify, render_template_string\n",
    "\n",
    "# Load the overlay\n",
    "overlay = Overlay('/home/xilinx/alexnet_mnist.bit')\n",
    "alexnet_ip = overlay.alexnet_mnist_0\n",
    "\n",
    "app = Flask(__name__)\n",
    "\n",
    "# HTML template for the web interface\n",
    "HTML_TEMPLATE = '''\n",
    "<!DOCTYPE html>\n",
    "<html>\n",
    "<head>\n",
    "    <title>FPGA Digit Recognition</title>\n",
    "    <script src=\"https://ajax.googleapis.com/ajax/libs/jquery/3.5.1/jquery.min.js\"></script>\n",
    "    <style>\n",
    "        canvas {\n",
    "            border: 1px solid black;\n",
    "        }\n",
    "    </style>\n",
    "</head>\n",
    "<body>\n",
    "    <h1>Draw a digit (0-9)</h1>\n",
    "    <canvas id=\"canvas\" width=\"280\" height=\"280\"></canvas>\n",
    "    <div>\n",
    "        <button id=\"clear\">Clear</button>\n",
    "        <button id=\"recognize\">Recognize</button>\n",
    "    </div>\n",
    "    <h2>Result: <span id=\"result\"></span></h2>\n",
    "    \n",
    "    <script>\n",
    "        const canvas = document.getElementById('canvas');\n",
    "        const ctx = canvas.getContext('2d');\n",
    "        let isDrawing = false;\n",
    "        \n",
    "        ctx.lineWidth = 15;\n",
    "        ctx.lineCap = 'round';\n",
    "        ctx.lineJoin = 'round';\n",
    "        ctx.strokeStyle = 'black';\n",
    "        \n",
    "        canvas.addEventListener('mousedown', startDrawing);\n",
    "        canvas.addEventListener('mousemove', draw);\n",
    "        canvas.addEventListener('mouseup', stopDrawing);\n",
    "        canvas.addEventListener('mouseout', stopDrawing);\n",
    "        \n",
    "        document.getElementById('clear').addEventListener('click', clearCanvas);\n",
    "        document.getElementById('recognize').addEventListener('click', recognizeDigit);\n",
    "        \n",
    "        function startDrawing(e) {\n",
    "            isDrawing = true;\n",
    "            draw(e);\n",
    "        }\n",
    "        \n",
    "        function draw(e) {\n",
    "            if (!isDrawing) return;\n",
    "            \n",
    "            ctx.beginPath();\n",
    "            ctx.moveTo(e.offsetX, e.offsetY);\n",
    "            ctx.lineTo(e.offsetX, e.offsetY);\n",
    "            ctx.stroke();\n",
    "        }\n",
    "        \n",
    "        function stopDrawing() {\n",
    "            isDrawing = false;\n",
    "        }\n",
    "        \n",
    "        function clearCanvas() {\n",
    "            ctx.clearRect(0, 0, canvas.width, canvas.height);\n",
    "            document.getElementById('result').textContent = '';\n",
    "        }\n",
    "        \n",
    "        function recognizeDigit() {\n",
    "            const imageData = canvas.toDataURL('image/png');\n",
    "            \n",
    "            $.ajax({\n",
    "                url: '/recognize',\n",
    "                type: 'POST',\n",
    "                contentType: 'application/json',\n",
    "                JSON.stringify({image: imageData}),\n",
    "                success: function(response) {\n",
    "                    document.getElementById('result').textContent = response.digit;\n",
    "                }\n",
    "            });\n",
    "        }\n",
    "    </script>\n",
    "</body>\n",
    "</html>\n",
    "'''\n",
    "\n",
    "@app.route('/')\n",
    "def index():\n",
    "    return render_template_string(HTML_TEMPLATE)\n",
    "\n",
    "@app.route('/recognize', methods=['POST'])\n",
    "def recognize():\n",
    "    # Get the image data from the request\n",
    "    image_data = request.json['image']\n",
    "    image_data = image_data.split(',')[1]\n",
    "    \n",
    "    # Decode the base64 image\n",
    "    image = Image.open(io.BytesIO(base64.b64decode(image_data)))\n",
    "    \n",
    "    # Convert to grayscale and resize\n",
    "    image = image.convert('L').resize((28, 28))\n",
    "    \n",
    "    # Convert to numpy array and normalize\n",
    "    image_array = np.array(image).astype('float32') / 255.0\n",
    "    \n",
    "    # Invert colors (MNIST has white digits on black background)\n",
    "    image_array = 1 - image_array"
   ]
  }
 ],
 "metadata": {
  "kernelspec": {
   "display_name": "Python 3 (ipykernel)",
   "language": "python",
   "name": "python3"
  },
  "language_info": {
   "codemirror_mode": {
    "name": "ipython",
    "version": 3
   },
   "file_extension": ".py",
   "mimetype": "text/x-python",
   "name": "python",
   "nbconvert_exporter": "python",
   "pygments_lexer": "ipython3",
   "version": "3.11.11"
  }
 },
 "nbformat": 4,
 "nbformat_minor": 5
}
